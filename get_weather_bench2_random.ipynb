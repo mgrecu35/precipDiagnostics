{
 "cells": [
  {
   "cell_type": "code",
   "execution_count": 1,
   "metadata": {},
   "outputs": [],
   "source": [
    "import xarray as xr\n",
    "#ds=xr.open_zarr('gs://weatherbench2/datasets/era5/1959-2023_01_10-wb13-6h-1440x721_with_derived_variables.zarr')\n",
    "#ds=xr.open_zarr('gs://weatherbench2/datasets/era5/1959-2022-6h-512x256_equiangular_conservative.zarr')\n",
    "ds=xr.open_zarr('gs://weatherbench2/datasets/era5/1959-2023_01_10-full_37-1h-512x256_equiangular_conservative.zarr')\n",
    "#ds.close()\n",
    "#ds=xr.open_zarr('gs://weatherbench2/datasets/era5/1959-2023_01_10-full_37-1h-1440x721.zarr')\n",
    "#ds_hres=xr.open_zarr('gs://weatherbench2/datasets/era5/1959-2023_01_10-full_37-1h-1440x721.zarr')"
   ]
  },
  {
   "cell_type": "code",
   "execution_count": 4,
   "metadata": {},
   "outputs": [
    {
     "name": "stdout",
     "output_type": "stream",
     "text": [
      "<xarray.DataArray 'latitude' (latitude: 256)> Size: 2kB\n",
      "array([-89.648437, -88.945312, -88.242187, ...,  88.242187,  88.945312,\n",
      "        89.648437])\n",
      "Coordinates:\n",
      "  * latitude  (latitude) float64 2kB -89.65 -88.95 -88.24 ... 88.24 88.95 89.65\n",
      "(array([385, 386, 387, 388, 389, 390, 391, 392, 393, 394, 395, 396, 397,\n",
      "       398, 399, 400, 401, 402, 403, 404, 405, 406, 407, 408, 409, 410,\n",
      "       411, 412]),)\n",
      "(array([ 85,  86,  87,  88,  89,  90,  91,  92,  93,  94,  95,  96,  97,\n",
      "        98,  99, 100, 101, 102, 103, 104, 105, 106, 107, 108, 109, 110,\n",
      "       111, 112, 113]),)\n",
      "(512, 256)\n",
      "[[1. 1. 1. ... 0. 0. 0.]\n",
      " [1. 1. 1. ... 0. 0. 0.]\n",
      " [1. 1. 1. ... 0. 0. 0.]\n",
      " ...\n",
      " [1. 1. 1. ... 0. 0. 0.]\n",
      " [1. 1. 1. ... 0. 0. 0.]\n",
      " [1. 1. 1. ... 0. 0. 0.]]\n",
      "[0. 0. 0. 0. 0. 0. 0. 0. 0. 0. 0. 0. 0. 0. 0. 0. 0. 0. 0. 0. 0. 0. 0. 0.\n",
      " 0. 0. 0. 0. 0. 0. 0. 0. 0. 0. 0. 0. 0. 0. 0. 0. 0. 0. 0. 0. 0. 0. 0. 0.\n",
      " 0. 0. 0. 0. 0. 0. 0. 0. 0. 0. 0. 0. 0. 0. 0. 0. 0. 0. 0. 0. 0. 0. 0. 0.\n",
      " 0. 0. 0. 0. 0. 0. 0. 0. 0. 0. 0. 0. 0. 0. 0. 0. 0. 0. 0. 0. 0. 0. 0. 0.\n",
      " 0. 0. 0. 0.]\n"
     ]
    },
    {
     "data": {
      "image/png": "[encoded data removed]",
      "text/plain": [
       "<Figure size 640x480 with 2 Axes>"
      ]
     },
     "metadata": {},
     "output_type": "display_data"
    }
   ],
   "source": [
    "#print(ds.keys())\n",
    "print(ds['latitude'])\n",
    "lat=ds['latitude'][:].data\n",
    "lon=ds['longitude'][:].data\n",
    "region_bounds = {\n",
    "    \"lat_min\": -30.0,\n",
    "    \"lat_max\": -10.0,\n",
    "    \"lon_min\": -90.0,\n",
    "    \"lon_max\": -70.0\n",
    "}\n",
    "import numpy as np\n",
    "a=np.where((lon>region_bounds['lon_min']+360) & (lon<region_bounds['lon_max']+360))\n",
    "b=np.where((lat>region_bounds['lat_min']) & (lat<region_bounds['lat_max']))\n",
    "print(a)\n",
    "print(b)\n",
    "land_sea_mask=ds['land_sea_mask'][:].data\n",
    "print(land_sea_mask.shape)\n",
    "\n",
    "\n",
    "land_sea_local=land_sea_mask[:,:]\n",
    "ny,nx=land_sea_local.shape\n",
    "land_sea_np=np.zeros((ny,nx))+1\n",
    "land_sea_np[land_sea_local<0.01]=0\n",
    "\n",
    "import matplotlib.pyplot as plt\n",
    "plt.pcolormesh(lon,lat,land_sea_np.T)\n",
    "plt.colorbar()\n",
    "\n",
    "\n",
    "print(land_sea_np)\n",
    "# select np random points from the sea\n",
    "np.random.seed(0)\n",
    "n=100\n",
    "a_sea=np.where(land_sea_np==0)\n",
    "idx=np.random.choice(len(a_sea[0]),n)\n",
    "print(land_sea_np[a_sea[0][idx],a_sea[1][idx]])\n",
    "#print(land_sea_mask[:].data[a_sea][idx])"
   ]
  },
  {
   "cell_type": "code",
   "execution_count": 6,
   "metadata": {},
   "outputs": [
    {
     "name": "stdout",
     "output_type": "stream",
     "text": [
      "(27, 28)\n",
      "85 113 385 412\n",
      "(561264,)\n",
      "<xarray.DataArray 'time' ()> Size: 8B\n",
      "array('2008-10-21T00:00:00.000000000', dtype='datetime64[ns]')\n",
      "Coordinates:\n",
      "    time     datetime64[ns] 8B 2008-10-21\n",
      "<xarray.DataArray 'level' (level: 27)> Size: 216B\n",
      "array([ 100,  125,  150,  175,  200,  225,  250,  300,  350,  400,  450,  500,\n",
      "        550,  600,  650,  700,  750,  775,  800,  825,  850,  875,  900,  925,\n",
      "        950,  975, 1000])\n",
      "Coordinates:\n",
      "  * level    (level) int64 216B 100 125 150 175 200 225 ... 900 925 950 975 1000\n"
     ]
    }
   ],
   "source": [
    "import numpy as np\n",
    "\n",
    "ind_lon_min,ind_lon_max=366,414 #366 414\n",
    "ind_lat_min,ind_lat_max=160,208\n",
    "ind_lon_min,ind_lon_max=a[0][0],a[0][-1]\n",
    "ind_lat_min,ind_lat_max=b[0][0],b[0][-1]\n",
    "tpw=ds['total_column_water_vapour'][0,ind_lon_min:ind_lon_max,ind_lat_min:ind_lat_max].data\n",
    "tp=ds['total_precipitation'][0,ind_lon_min:ind_lon_max,ind_lat_min:ind_lat_max]\n",
    "print(tpw.shape)\n",
    "#[0,ind_lat_min:ind_lat_max,ind_lon_min:ind_lon_max]\n",
    "print(ind_lat_min,ind_lat_max,ind_lon_min,ind_lon_max)\n",
    "#print(180/256)\n",
    "#print(ds['u_component_of_wind'])\n",
    "#print(ds['total_precipitation'])\n",
    "#print(ds['total_column_water_vapour'])\n",
    "print(ds['time'].shape)\n",
    "import datetime\n",
    "year=2008\n",
    "first_day=datetime.datetime(year,10,21)\n",
    "dt=first_day-datetime.datetime(1959,1,1)\n",
    "nstart=dt.days*24\n",
    "print(ds['time'][nstart])\n",
    "#a=np.arange(0,10,3)\n",
    "#print(a)\n",
    "levels=ds['level'][10:]\n",
    "i_levels=range(10,37)\n",
    "print(levels)"
   ]
  },
  {
   "cell_type": "code",
   "execution_count": null,
   "metadata": {},
   "outputs": [
    {
     "name": "stdout",
     "output_type": "stream",
     "text": [
      "1959-01-01T00:00:00.000000000\n",
      "<xarray.DataArray 'time' (time: 30)> Size: 240B\n",
      "array(['2008-10-07T03:00:00.000000000', '2008-10-25T08:00:00.000000000',\n",
      "       '2008-10-19T23:00:00.000000000', '2008-10-04T15:00:00.000000000',\n",
      "       '2008-10-01T13:00:00.000000000', '2008-10-14T02:00:00.000000000',\n",
      "       '2008-10-25T17:00:00.000000000', '2008-10-06T00:00:00.000000000',\n",
      "       '2008-10-30T19:00:00.000000000', '2008-10-12T17:00:00.000000000',\n",
      "       '2008-10-18T18:00:00.000000000', '2008-10-20T14:00:00.000000000',\n",
      "       '2008-10-12T20:00:00.000000000', '2008-10-12T12:00:00.000000000',\n",
      "       '2008-10-14T12:00:00.000000000', '2008-10-23T06:00:00.000000000',\n",
      "       '2008-10-10T11:00:00.000000000', '2008-10-25T19:00:00.000000000',\n",
      "       '2008-10-27T23:00:00.000000000', '2008-10-24T21:00:00.000000000',\n",
      "       '2008-10-28T05:00:00.000000000', '2008-10-22T13:00:00.000000000',\n",
      "       '2008-10-11T16:00:00.000000000', '2008-10-06T16:00:00.000000000',\n",
      "       '2008-10-09T15:00:00.000000000', '2008-10-20T07:00:00.000000000',\n",
      "       '2008-10-06T19:00:00.000000000', '2008-10-01T04:00:00.000000000',\n",
      "       '2008-10-18T15:00:00.000000000', '2008-10-15T12:00:00.000000000'],\n",
      "      dtype='datetime64[ns]')\n",
      "Coordinates:\n",
      "  * time     (time) datetime64[ns] 240B 2008-10-07T03:00:00 ... 2008-10-15T12...\n",
      "(2, 37, 512, 256)\n",
      "(37,)\n"
     ]
    }
   ],
   "source": [
    "time=ds['time'][:].data\n",
    "print(time[0])\n",
    "import datetime\n",
    "tpwL=[]\n",
    "level=ds['level'][:].data\n",
    "#levels=[5,7,9,10,12]\n",
    "#p_levels=levels\n",
    "levels=i_levels\n",
    "for year in range(2018,2019):\n",
    "    first_day=datetime.datetime(year,10,1)\n",
    "    dt=first_day-datetime.datetime(1959,1,1)\n",
    "    nstart=dt.days*24\n",
    "    nend=nstart+24*30\n",
    "    ichoice=np.random.choice(nend-nstart+1,10)\n",
    "    print(ds['time'][nstart+ichoice])\n",
    "    for itime in ichoice:\n",
    "        tpw=ds['total_column_water_vapour'][nstart+itime:nstart+itime+2,:,:].data\n",
    "        tp=ds['total_precipitation'][nstart+itime:nstart+itime+2,:,:].data\n",
    "        geopotential=ds['geopotential'][nstart+itime:nstart+itime+2,:,:,:].data\n",
    "        qv=ds['specific_humidity'][nstart+itime:nstart+itime+2,:,:,:].data\n",
    "        temp_2m=ds['2m_temperature'][nstart+itime:nstart+itime+2,:,:].data\n",
    "        mean_sea_level_pressure=ds['mean_sea_level_pressure'][nstart+itime:nstart+itime+2,:,:].data\n",
    "        #total_cloud_cover=ds['total_cloud_cover'][nstart+itime:nstart+itime+2,:,:].data\n",
    "        total_column_water=ds['total_column_water'][nstart+itime:nstart+itime+2,:,:].data\n",
    "        u_10m=ds['10m_u_component_of_wind'][nstart+itime:nstart+itime+2,:,:].data\n",
    "        v_10m=ds['10m_v_component_of_wind'][nstart+itime:nstart+itime+2,:,:].data\n",
    "        temperature=ds['temperature'][nstart+itime:nstart+itime+2,:,:,:].data\n",
    "        tp_xr=xr.DataArray(tp,dims=['time','lon','lat'],coords={'time':time[nstart+itime:nstart+itime+2],'lon':lon,'lat':lat})\n",
    "        tpw_xr=xr.DataArray(tpw,dims=['time','lon','lat'],coords={'time':time[nstart+itime:nstart+itime+2],'lon':lon,'lat':lat})\n",
    "        print(qv.shape)\n",
    "        print(level.shape)\n",
    "        qv_xr=xr.DataArray(qv,dims=['time','lev','lon','lat'],coords={'time':time[nstart+itime:nstart+itime+2],'lev':level,'lon':lon,'lat':lat})\n",
    "        geopotential_xr=xr.DataArray(geopotential,dims=['time','lev','lon','lat'],coords={'time':time[nstart+itime:nstart+itime+2],'lev':level,'lon':lon,'lat':lat})\n",
    "        temp_2m_xr=xr.DataArray(temp_2m,dims=['time','lon','lat'],coords={'time':time[nstart+itime:nstart+itime+2],'lon':lon,'lat':lat})\n",
    "        temperature_xr=xr.DataArray(temperature,dims=['time','lev','lon','lat'],coords={'time':time[nstart+itime:nstart+itime+2],'lev':level,'lon':lon,'lat':lat})\n",
    "        mean_sea_level_pressure_xr=xr.DataArray(mean_sea_level_pressure,dims=['time','lon','lat'],coords={'time':time[nstart+itime:nstart+itime+2],'lon':lon,'lat':lat})\n",
    "        u_10m_xr=xr.DataArray(u_10m,dims=['time','lon','lat'],coords={'time':time[nstart+itime:nstart+itime+2],'lon':lon,'lat':lat})\n",
    "        v_10m_xr=xr.DataArray(v_10m,dims=['time','lon','lat'],coords={'time':time[nstart+itime:nstart+itime+2],'lon':lon,'lat':lat})\n",
    "        total_column_water_xr=xr.DataArray(total_column_water,dims=['time','lon','lat'],coords={'time':time[nstart+itime:nstart+itime+2],'lon':lon,'lat':lat})\n",
    "\n",
    "        ds_out=xr.Dataset({'total_column_water_vapour':tpw_xr,'total_precipitation':tp_xr,'geopotential':geopotential_xr,'mean_sea_level_pressure':mean_sea_level_pressure_xr,'temperature_2m':temp_2m_xr,'specific_humidity':qv_xr,'total_column_water':total_column_water_xr,'u_10m':u_10m_xr,'v_10m':v_10m_xr,'temperature':temperature_xr})\n",
    "        fname_out='weatherbench2_hourly_rand_sel_%s.nc'%(str(ds['time'][nstart+itime].data)[:-10])\n",
    "        comp = dict(zlib=True, complevel=5)\n",
    "        encoding = {var: comp for var in ds_out.data_vars}\n",
    "        ds_out.to_netcdf(fname_out,encoding=encoding)\n",
    "        #break\n",
    "    break\n",
    "    #tp_year=ds['total_precipitation'][nstart:nend,ind_lon_min:ind_lon_max,ind_lat_min:ind_lat_max].data\n",
    "    #u_wind_year=ds['u_component_of_wind'][nstart:nend:3,levels,ind_lon_min:ind_lon_max,ind_lat_min:ind_lat_max].data\n",
    "    #v_wind_year=ds['v_component_of_wind'][nstart:nend:3,levels,ind_lon_min:ind_lon_max,ind_lat_min:ind_lat_max].data\n",
    "    #print(nstart,nend)\n",
    "    #print(ds['geopotential'])\n",
    "    #u_10m=ds['10m_u_component_of_wind'][nstart:nend,ind_lon_min:ind_lon_max,ind_lat_min:ind_lat_max].data\n",
    "    #v_10m=ds['10m_v_component_of_wind'][nstart:nend,ind_lon_min:ind_lon_max,ind_lat_min:ind_lat_max].data\n",
    "    #temperature=ds['temperature'][nstart:nend,levels,ind_lon_min:ind_lon_max,ind_lat_min:ind_lat_max].data\n",
    "    #geopotential_year=ds['geopotential'][nstart:nend,levels,ind_lon_min:ind_lon_max,ind_lat_min:ind_lat_max].data\n",
    "    #qv=ds['specific_humidity'][nstart:nend,levels,ind_lon_min:ind_lon_max,ind_lat_min:ind_lat_max].data\n",
    "    #temp_2m_year=ds['2m_temperature'][nstart:nend,ind_lon_min:ind_lon_max,ind_lat_min:ind_lat_max].data\n",
    "    #mean_sea_level_pressure_year=ds['mean_sea_level_pressure'][nstart:nend,ind_lon_min:ind_lon_max,ind_lat_min:ind_lat_max].data\n",
    "    #tpw_xr=xr.DataArray(tpw_year,dims=['time','lon','lat'],coords={'time':time[nstart:nend],'lon':lon[ind_lon_min:ind_lon_max],'lat':lat[ind_lat_min:ind_lat_max]})\n",
    "    #tp_xr=xr.DataArray(tp_year,dims=['time','lon','lat'],coords={'time':time[nstart:nend],'lon':lon[ind_lon_min:ind_lon_max],'lat':lat[ind_lat_min:ind_lat_max]})\n",
    "    #qv_xr=xr.DataArray(qv,dims=['time','level','lon','lat'],coords={'time':time[nstart:nend],'level':levels,'lon':lon[ind_lon_min:ind_lon_max],'lat':lat[ind_lat_min:ind_lat_max]})\n",
    "    #total_cloud_cover=ds['total_cloud_cover'][nstart:nend,ind_lon_min:ind_lon_max,ind_lat_min:ind_lat_max].data\n",
    "    #total_cloud_cover_xr=xr.DataArray(total_cloud_cover,dims=['time','lon','lat'],coords={'time':time[nstart:nend],'lon':lon[ind_lon_min:ind_lon_max],'lat':lat[ind_lat_min:ind_lat_max]})\n",
    "    #total_column_water=ds['total_column_water'][nstart:nend,ind_lon_min:ind_lon_max,ind_lat_min:ind_lat_max].data\n",
    "    #total_column_water_xr=xr.DataArray(total_column_water,dims=['time','lon','lat'],coords={'time':time[nstart:nend],'lon':lon[ind_lon_min:ind_lon_max],'lat':lat[ind_lat_min:ind_lat_max]})\n",
    "    #u_wind_xr=xr.DataArray(u_wind_year,dims=['time','level','lon','lat'],coords={'time':time[nstart:nend:3],'level':levels,'lon':lon[ind_lon_min:ind_lon_max],'lat':lat[ind_lat_min:ind_lat_max]})\n",
    "    #v_wind_xr=xr.DataArray(v_wind_year,dims=['time','level','lon','lat'],coords={'time':time[nstart:nend:3],'level':levels,'lon':lon[ind_lon_min:ind_lon_max],'lat':lat[ind_lat_min:ind_lat_max]})\n",
    "    #geopotential_xr=xr.DataArray(geopotential_year,dims=['time','level','lon','lat'],coords={'time':time[nstart:nend],'level':levels,'lon':lon[ind_lon_min:ind_lon_max],'lat':lat[ind_lat_min:ind_lat_max]})\n",
    "    #mean_sea_level_pressure_xr=xr.DataArray(mean_sea_level_pressure_year,dims=['time','lon','lat'],coords={'time':time[nstart:nend],'lon':lon[ind_lon_min:ind_lon_max],'lat':lat[ind_lat_min:ind_lat_max]})\n",
    "    #temp_2m_year_xr=xr.DataArray(temp_2m_year,dims=['time','lon','lat'],coords={'time':time[nstart:nend],'lon':lon[ind_lon_min:ind_lon_max],'lat':lat[ind_lat_min:ind_lat_max]})\n",
    "    #surface_pressure_year=ds['surface_pressure'][nstart:nend,ind_lon_min:ind_lon_max,ind_lat_min:ind_lat_max].data\n",
    "    #surface_pressure_year_xr=xr.DataArray(surface_pressure_year,dims=['time','lon','lat'],coords={'time':time[nstart:nend],'lon':lon[ind_lon_min:ind_lon_max],'lat':lat[ind_lat_min:ind_lat_max]})\n",
    "    #u_10m_xr=xr.DataArray(u_10m,dims=['time','lon','lat'],coords={'time':time[nstart:nend],'lon':lon[ind_lon_min:ind_lon_max],'lat':lat[ind_lat_min:ind_lat_max]})\n",
    "    #v_10m_xr=xr.DataArray(v_10m,dims=['time','lon','lat'],coords={'time':time[nstart:nend],'lon':lon[ind_lon_min:ind_lon_max],'lat':lat[ind_lat_min:ind_lat_max]})\n",
    "    #temperature_xr=xr.DataArray(temperature,dims=['time','level','lon','lat'],coords={'time':time[nstart:nend],'level':levels,'lon':lon[ind_lon_min:ind_lon_max],'lat':lat[ind_lat_min:ind_lat_max]})\n",
    "    #ds_out=xr.Dataset({'total_column_water_vapour':tpw_xr,'total_precipitation':tp_xr,'geopotential':geopotential_xr,'mean_sea_level_pressure':mean_sea_level_pressure_xr,'temperature_2m':temp_2m_year_xr,'surface_pressure':surface_pressure_year_xr,'specific_humidity':qv_xr,'total_cloud_cover':total_cloud_cover_xr,'total_column_water':total_column_water_xr,'u_10m':u_10m_xr,'v_10m':v_10m_xr,'temperature':temperature_xr})\n",
    "    #comp = dict(zlib=True, complevel=5)\n",
    "    #encoding = {var: comp for var in ds_out.data_vars}\n",
    "    #print(first_day,year)\n",
    "    #ds_out.to_netcdf('weatherbench2_vocals_hourly_subset_%4.4i.nc'%year,encoding=encoding)\n",
    "    #break\n",
    "#print(time[nstart])"
   ]
  },
  {
   "cell_type": "code",
   "execution_count": 26,
   "metadata": {},
   "outputs": [
    {
     "name": "stdout",
     "output_type": "stream",
     "text": [
      "2008-10-28T09:00:00\n"
     ]
    }
   ],
   "source": [
    "print(str(ds['time'][nstart+itime].data)[:-10])"
   ]
  },
  {
   "cell_type": "code",
   "execution_count": 34,
   "metadata": {},
   "outputs": [
    {
     "name": "stdout",
     "output_type": "stream",
     "text": [
      "(24, 27, 27, 28)\n"
     ]
    },
    {
     "data": {
      "text/plain": [
       "<cartopy.mpl.feature_artist.FeatureArtist at 0x31bad02e0>"
      ]
     },
     "execution_count": 34,
     "metadata": {},
     "output_type": "execute_result"
    },
    {
     "data": {
      "image/png": "[encoded data removed]",
      "text/plain": [
       "<Figure size 640x480 with 1 Axes>"
      ]
     },
     "metadata": {},
     "output_type": "display_data"
    }
   ],
   "source": [
    "print(qv.shape)\n",
    "import matplotlib.pyplot as plt\n",
    "#plt.pcolormesh(qv[0,:,:,2].T,cmap='jet')\n",
    "import cartopy.crs as ccrs\n",
    "ax=plt.axes(projection=ccrs.PlateCarree())\n",
    "plt.pcolormesh(lon[ind_lon_min:ind_lon_max],lat[ind_lat_min:ind_lat_max-15],tp_year[:,:,:-15].mean(axis=0).T,cmap='jet')\n",
    "ax.coastlines()"
   ]
  },
  {
   "cell_type": "code",
   "execution_count": 20,
   "metadata": {},
   "outputs": [
    {
     "name": "stdout",
     "output_type": "stream",
     "text": [
      "[ 300  500  700  850 1000]\n",
      "(512, 256)\n",
      "(512, 256)\n"
     ]
    }
   ],
   "source": [
    "print(ds['level'].data[[5,7,9,10,12]])\n",
    "print(ds['land_sea_mask'].shape)\n",
    "print(ds['geopotential_at_surface'].shape)"
   ]
  },
  {
   "cell_type": "code",
   "execution_count": 10,
   "metadata": {},
   "outputs": [
    {
     "name": "stdout",
     "output_type": "stream",
     "text": [
      "(48,)\n",
      "(48,)\n",
      "(48, 48)\n"
     ]
    },
    {
     "data": {
      "text/plain": [
       "<cartopy.mpl.feature_artist.FeatureArtist at 0x312134fa0>"
      ]
     },
     "execution_count": 10,
     "metadata": {},
     "output_type": "execute_result"
    },
    {
     "data": {
      "image/png": "[encoded data removed]",
      "text/plain": [
       "<Figure size 640x480 with 1 Axes>"
      ]
     },
     "metadata": {},
     "output_type": "display_data"
    }
   ],
   "source": [
    "import matplotlib.pyplot as plt\n",
    "import cartopy.crs as ccrs\n",
    "print(lon[ind_lon_min:ind_lon_max].shape)\n",
    "print(lat[ind_lat_min:ind_lat_max].shape)\n",
    "print(tpw.shape)\n",
    "ax=plt.axes(projection=ccrs.PlateCarree())\n",
    "plt.pcolormesh(lon[ind_lon_min:ind_lon_max],lat[ind_lat_min:ind_lat_max],\n",
    "               tpw.T,cmap='jet')\n",
    "ax.coastlines()"
   ]
  }
 ],
 "metadata": {
  "kernelspec": {
   "display_name": "base",
   "language": "python",
   "name": "python3"
  },
  "language_info": {
   "codemirror_mode": {
    "name": "ipython",
    "version": 3
   },
   "file_extension": ".py",
   "mimetype": "text/x-python",
   "name": "python",
   "nbconvert_exporter": "python",
   "pygments_lexer": "ipython3",
   "version": "3.10.15"
  }
 },
 "nbformat": 4,
 "nbformat_minor": 2
}
