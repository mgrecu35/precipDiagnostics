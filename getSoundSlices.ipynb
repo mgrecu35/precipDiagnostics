{
 "cells": [
  {
   "cell_type": "code",
   "execution_count": 1,
   "metadata": {},
   "outputs": [
    {
     "name": "stdout",
     "output_type": "stream",
     "text": [
      "['weatherbench2_hourly_rand_sel_2018-04-15T11:00:00.nc', 'weatherbench2_hourly_rand_sel_2018-04-16T08:00:00.nc', 'weatherbench2_hourly_rand_sel_2018-04-18T22:00:00.nc', 'weatherbench2_hourly_rand_sel_2018-04-26T11:00:00.nc', 'weatherbench2_hourly_rand_sel_2018-04-26T22:00:00.nc', 'weatherbench2_hourly_rand_sel_2018-04-27T19:00:00.nc', 'weatherbench2_hourly_rand_sel_2018-05-03T12:00:00.nc', 'weatherbench2_hourly_rand_sel_2018-05-05T08:00:00.nc', 'weatherbench2_hourly_rand_sel_2018-05-11T13:00:00.nc', 'weatherbench2_hourly_rand_sel_2018-05-17T02:00:00.nc', 'weatherbench2_hourly_rand_sel_2018-05-18T14:00:00.nc', 'weatherbench2_hourly_rand_sel_2018-05-31T00:00:00.nc', 'weatherbench2_hourly_rand_sel_2018-06-02T00:00:00.nc', 'weatherbench2_hourly_rand_sel_2018-06-03T22:00:00.nc', 'weatherbench2_hourly_rand_sel_2018-06-04T06:00:00.nc', 'weatherbench2_hourly_rand_sel_2018-06-04T08:00:00.nc', 'weatherbench2_hourly_rand_sel_2018-06-06T02:00:00.nc', 'weatherbench2_hourly_rand_sel_2018-06-08T08:00:00.nc', 'weatherbench2_hourly_rand_sel_2018-06-12T03:00:00.nc', 'weatherbench2_hourly_rand_sel_2018-10-20T19:00:00.nc', 'weatherbench2_hourly_rand_sel_2018-10-22T12:00:00.nc', 'weatherbench2_hourly_rand_sel_2018-10-27T08:00:00.nc', 'weatherbench2_hourly_rand_sel_2018-10-28T11:00:00.nc', 'weatherbench2_hourly_rand_sel_2018-11-02T18:00:00.nc', 'weatherbench2_hourly_rand_sel_2018-11-08T22:00:00.nc', 'weatherbench2_hourly_rand_sel_2018-11-09T07:00:00.nc', 'weatherbench2_hourly_rand_sel_2018-11-13T00:00:00.nc', 'weatherbench2_hourly_rand_sel_2018-11-15T05:00:00.nc', 'weatherbench2_hourly_rand_sel_2018-11-19T03:00:00.nc', 'weatherbench2_hourly_rand_sel_2018-11-21T01:00:00.nc', 'weatherbench2_hourly_rand_sel_2018-11-25T20:00:00.nc', 'weatherbench2_hourly_rand_sel_2018-11-26T12:00:00.nc', 'weatherbench2_hourly_rand_sel_2018-11-27T11:00:00.nc', 'weatherbench2_hourly_rand_sel_2018-12-03T00:00:00.nc', 'weatherbench2_hourly_rand_sel_2018-12-07T00:00:00.nc', 'weatherbench2_hourly_rand_sel_2018-12-07T12:00:00.nc', 'weatherbench2_hourly_rand_sel_2018-12-07T21:00:00.nc', 'weatherbench2_hourly_rand_sel_2018-12-10T08:00:00.nc', 'weatherbench2_hourly_rand_sel_2018-12-13T18:00:00.nc']\n"
     ]
    }
   ],
   "source": [
    "\n",
    "#import pickle\n",
    "#with open('ij_vh_float.pkl','wb') as f:\n",
    "#    pickle.dump({'ij_v_float':ij_v_float,'ij_h_float':ij_h_float},f)\n",
    "import pickle\n",
    "with open('ij_vh_float.pkl','rb') as f:\n",
    "    slice_dict = pickle.load(f)\n",
    "ij_v_float = slice_dict['ij_v_float']\n",
    "ij_h_float = slice_dict['ij_h_float']\n",
    "import glob\n",
    "fs=glob.glob('*rand_sel*.nc')\n",
    "fs=sorted(fs)[:]\n",
    "print(fs)\n",
    "\n",
    "# ds_out=xr.Dataset({'total_column_water_vapour':tpw_xr,'total_precipitation':tp_xr,'geopotential':geopotential_xr,'mean_sea_level_pressure':mean_sea_level_pressure_xr,'temperature_2m':temp_2m_xr,'specific_humidity':qv_xr,'total_column_water':total_column_water_xr,'u_10m':u_10m_xr,'v_10m':v_10m_xr,'temperature':temperature_xr})\n",
    "#fname_out='weatherbench2_hourly_rand_sel_%s.nc'%(str(ds['time'][nstart+itime].data)[:-10])\n",
    "import numpy as np\n",
    "import netCDF4 as nc\n",
    "ij_v_int=np.round(ij_v_float).astype(np.int16)\n",
    "ij_h_int=np.round(ij_h_float).astype(np.int16)\n",
    "n_choose=2000\n",
    "qv_train_L=[]\n",
    "geopotential_train_L=[]\n",
    "temperature_train_L=[]\n",
    "u_10m_train_L=[]\n",
    "v_10m_train_L=[]\n",
    "mean_sea_level_pressure_train_L=[]\n",
    "total_precipitation_train_L=[]\n",
    "temperature_2m_train_L=[]\n",
    "boundary_layer_height_train_L=[]\n",
    "\n",
    "qv_val_L=[]\n",
    "geopotential_val_L=[]\n",
    "temperature_val_L=[]\n",
    "u_10m_val_L=[]\n",
    "v_10m_val_L=[]\n",
    "mean_sea_level_pressure_val_L=[]\n",
    "total_precipitation_val_L=[]\n",
    "temperature_2m_val_L=[]\n",
    "boundary_layer_height_val_L=[]\n",
    "\n",
    "for f in fs:\n",
    "    with nc.Dataset(f) as fh:\n",
    "        qv=fh.variables['specific_humidity'][:]\n",
    "        geopotential=fh.variables['geopotential'][:]\n",
    "        temperature=fh.variables['temperature'][:]\n",
    "        u_10m=fh.variables['u_10m'][:]\n",
    "        v_10m=fh.variables['v_10m'][:]\n",
    "        mean_sea_level_pressure=fh.variables['mean_sea_level_pressure'][:]\n",
    "        total_precipitation=fh.variables['total_precipitation'][:]\n",
    "        temperature_2m=fh.variables['temperature_2m'][:]\n",
    "        boundary_layer_height=fh.variables['boundary_layer_height'][:]\n",
    "        ichoice=np.random.choice(len(ij_v_int),2*n_choose)\n",
    "        for i in ichoice[:n_choose]:\n",
    "            #print(qv.shape)\n",
    "            qv_train_L.append(qv[0,:,ij_v_int[i][0],ij_v_int[i][1]])\n",
    "            geopotential_train_L.append(geopotential[0,:,ij_v_int[i][0],ij_v_int[i][1]])\n",
    "            temperature_train_L.append(temperature[0,:,ij_v_int[i][0],ij_v_int[i][1]])\n",
    "            boundary_layer_height_train_L.append(boundary_layer_height[0,ij_v_int[i][0],ij_v_int[i][1]])\n",
    "            u_10m_train_L.append(u_10m[0,ij_v_int[i][0],ij_v_int[i][1]])\n",
    "            v_10m_train_L.append(v_10m[0,ij_v_int[i][0],ij_v_int[i][1]])\n",
    "            mean_sea_level_pressure_train_L.append(mean_sea_level_pressure[0,ij_v_int[i][0],ij_v_int[i][1]])\n",
    "            total_precipitation_train_L.append(total_precipitation[0,ij_v_int[i][0],ij_v_int[i][1]])\n",
    "            temperature_2m_train_L.append(temperature_2m[0,ij_v_int[i][0],ij_v_int[i][1]])\n",
    "        for i in ichoice[n_choose:]:\n",
    "            qv_val_L.append(qv[0,:,ij_v_int[i][0],ij_v_int[i][1]])\n",
    "            geopotential_val_L.append(geopotential[0,:,ij_v_int[i][0],ij_v_int[i][1]])\n",
    "            temperature_val_L.append(temperature[0,:,ij_v_int[i][0],ij_v_int[i][1]])\n",
    "            u_10m_val_L.append(u_10m[0,ij_v_int[i][0],ij_v_int[i][1]])\n",
    "            v_10m_val_L.append(v_10m[0,ij_v_int[i][0],ij_v_int[i][1]])\n",
    "            mean_sea_level_pressure_val_L.append(mean_sea_level_pressure[0,ij_v_int[i][0],ij_v_int[i][1]])\n",
    "            total_precipitation_val_L.append(total_precipitation[0,ij_v_int[i][0],ij_v_int[i][1]])\n",
    "            temperature_2m_val_L.append(temperature_2m[0,ij_v_int[i][0],ij_v_int[i][1]])\n",
    "            boundary_layer_height_val_L.append(boundary_layer_height[0,ij_v_int[i][0],ij_v_int[i][1]])\n",
    "\n"
   ]
  },
  {
   "cell_type": "code",
   "execution_count": 2,
   "metadata": {},
   "outputs": [],
   "source": [
    "qv_train=np.array(qv_train_L)\n",
    "geopotential_train=np.array(geopotential_train_L)\n",
    "temperature_train=np.array(temperature_train_L)\n",
    "u_10m_train=np.array(u_10m_train_L)\n",
    "v_10m_train=np.array(v_10m_train_L)\n",
    "mean_sea_level_pressure_train=np.array(mean_sea_level_pressure_train_L)\n",
    "total_precipitation_train=np.array(total_precipitation_train_L)\n",
    "temperature_2m_train=np.array(temperature_2m_train_L)\n",
    "boundary_layer_height_train=np.array(boundary_layer_height_train_L)\n",
    "import xarray as xr\n",
    "ds_out=xr.Dataset({'specific_humidity':(('sample','level'),qv_train),'geopotential':(('sample','level'),geopotential_train),'temperature':(('sample','level'),temperature_train),'u_10m':(('sample',),u_10m_train),'v_10m':(('sample',),v_10m_train),'mean_sea_level_pressure':(('sample',),mean_sea_level_pressure_train),'total_precipitation':(('sample',),total_precipitation_train),'temperature_2m':(('sample',),temperature_2m_train),'boundary_layer_height':(('sample',),boundary_layer_height_train)})\n",
    "comp=dict(zlib=True, complevel=5)\n",
    "encoding = {var: comp for var in ds_out.data_vars}\n",
    "fname_out='sounding_prof_training.nc'\n",
    "ds_out.to_netcdf(fname_out,encoding=encoding)\n",
    "\n",
    "qv_val=np.array(qv_val_L)\n",
    "geopotential_val=np.array(geopotential_val_L)\n",
    "temperature_val=np.array(temperature_val_L)\n",
    "u_10m_val=np.array(u_10m_val_L)\n",
    "v_10m_val=np.array(v_10m_val_L)\n",
    "mean_sea_level_pressure_val=np.array(mean_sea_level_pressure_val_L)\n",
    "total_precipitation_val=np.array(total_precipitation_val_L)\n",
    "temperature_2m_val=np.array(temperature_2m_val_L)\n",
    "boundary_layer_height_val=np.array(boundary_layer_height_val_L)\n",
    "ds_out=xr.Dataset({'specific_humidity':(('sample','level'),qv_val),'geopotential':(('sample','level'),geopotential_val),'temperature':(('sample','level'),temperature_val),'u_10m':(('sample',),u_10m_val),'v_10m':(('sample',),v_10m_val),'mean_sea_level_pressure':(('sample',),mean_sea_level_pressure_val),'total_precipitation':(('sample',),total_precipitation_val),'temperature_2m':(('sample',),temperature_2m_val),'boundary_layer_height':(('sample',),boundary_layer_height_val)})\n",
    "comp=dict(zlib=True, complevel=5)\n",
    "encoding = {var: comp for var in ds_out.data_vars}\n",
    "fname_out='sounding_prof_val.nc'\n",
    "ds_out.to_netcdf(fname_out,encoding=encoding)"
   ]
  },
  {
   "cell_type": "code",
   "execution_count": 1,
   "metadata": {},
   "outputs": [],
   "source": [
    "#ds_out=xr.Dataset({'specific_humidity':(('sample','level'),qv_val),'geopotential':(('sample','level'),geopotential_val),'temperature':(('sample','level'),temperature_val),'u_10m':(('sample',),u_10m_val),'v_10m':(('sample',),v_10m_val),'mean_sea_level_pressure':(('sample',),mean_sea_level_pressure_val),'total_precipitation':(('sample',),total_precipitation_val),'temperature_2m':(('sample',),temperature_2m_val),'boundary_layer_height':(('sample',),boundary_layer_height_val)})\n",
    "import netCDF4 as nc\n",
    "with nc.Dataset('sounding_prof_training.nc') as fh:\n",
    "    qv=fh.variables['specific_humidity'][:]\n",
    "    geopotential=fh.variables['geopotential'][:]\n",
    "    temperature=fh.variables['temperature'][:]\n",
    "    u_10m=fh.variables['u_10m'][:]\n",
    "    v_10m=fh.variables['v_10m'][:]\n",
    "    mean_sea_level_pressure=fh.variables['mean_sea_level_pressure'][:]\n",
    "    total_precipitation=fh.variables['total_precipitation'][:]\n",
    "    temperature_2m=fh.variables['temperature_2m'][:]\n",
    "    boundary_layer_height=fh.variables['boundary_layer_height'][:]"
   ]
  },
  {
   "cell_type": "code",
   "execution_count": 2,
   "metadata": {},
   "outputs": [
    {
     "data": {
      "image/png": "[encoded data removed]",
      "text/plain": [
       "<Figure size 640x480 with 2 Axes>"
      ]
     },
     "metadata": {},
     "output_type": "display_data"
    },
    {
     "data": {
      "image/png": "[encoded data removed]",
      "text/plain": [
       "<Figure size 640x480 with 1 Axes>"
      ]
     },
     "metadata": {},
     "output_type": "display_data"
    }
   ],
   "source": [
    "import matplotlib.pyplot as plt\n",
    "import numpy as np\n",
    "press=np.array([1, 2, 3, 5, 7, 10, 20, 30, 50, 70, 100, 125, 150, 175, 200, 225, 250, 300, 350, 400, 450, 500, 550, 600, 650, 700, 750, 775, 800, 825, 850, 875, 900, 925, 950, 975, 1000])\n",
    "plt.subplot(1,2,1)\n",
    "plt.plot(temperature[0,:],press)\n",
    "plt.ylim(1000,100)\n",
    "plt.subplot(1,2,2)\n",
    "plt.plot(qv[0,:],press)\n",
    "plt.ylim(1000,100)\n",
    "plt.figure()\n",
    "h1=plt.hist(total_precipitation,bins=np.arange(20)*0.00001)"
   ]
  },
  {
   "cell_type": "code",
   "execution_count": 3,
   "metadata": {},
   "outputs": [
    {
     "name": "stdout",
     "output_type": "stream",
     "text": [
      "<class 'netCDF4.Dataset'>\n",
      "root group (NETCDF4 data model, file format HDF5):\n",
      "    dimensions(sizes): dim_0(289), dim_1(8)\n",
      "    variables(dimensions): float32 kextR(dim_0, dim_1), float32 salbR(dim_0, dim_1), float32 asymR(dim_0, dim_1), float32 kextS(dim_0, dim_1), float32 salbS(dim_0, dim_1), float32 asymS(dim_0, dim_1), float32 kextG(dim_0, dim_1), float32 salbG(dim_0, dim_1), float32 asymG(dim_0, dim_1)\n",
      "    groups: \n",
      "['__class__', '__delattr__', '__dict__', '__dir__', '__doc__', '__eq__', '__format__', '__ge__', '__getattribute__', '__getstate__', '__gt__', '__hash__', '__init__', '__init_subclass__', '__le__', '__lt__', '__module__', '__ne__', '__new__', '__reduce__', '__reduce_ex__', '__repr__', '__setattr__', '__sizeof__', '__str__', '__subclasshook__', '__weakref__', 'asymBB', 'asymG', 'asymR', 'asymS', 'attKaBB', 'attKaG', 'attKaR', 'attKaS', 'attKuBB', 'attKuG', 'attKuR', 'attKuS', 'dmBB', 'dmg', 'dmr', 'dms', 'fh', 'fhBB', 'fhGMI', 'graupRate', 'gwc', 'kextBB', 'kextG', 'kextR', 'kextS', 'precRateBB', 'rainRate', 'rwc', 'salbBB', 'salbG', 'salbR', 'salbS', 'snowRate', 'swc', 'zKaBB', 'zKaG', 'zKaR', 'zKaS', 'zKuBB', 'zKuG', 'zKuR', 'zKuS']\n"
     ]
    }
   ],
   "source": [
    "import lkTables\n",
    "lkT= lkTables.scattTables()\n",
    "print(dir(lkT))\n",
    "import sdsu_tables as sdsu\n",
    "freq=60.0\n",
    "temp=273.15\n",
    "lwc=0.1\n",
    "nc=800*1e6\n",
    "sdsu.microp_set()"
   ]
  },
  {
   "cell_type": "code",
   "execution_count": 4,
   "metadata": {},
   "outputs": [
    {
     "name": "stdout",
     "output_type": "stream",
     "text": [
      "[50.3, 51.76, 52.8, 53.711, 54.4, 54.94, 55.5, 57.290344, 88.2, 165.5, 190.31, 187.81, 186.31, 185.11, 184.31]\n"
     ]
    }
   ],
   "source": [
    "flines=open('freqTable','r').readlines()\n",
    "freqs=[]\n",
    "p_m='±'\n",
    "for l in flines:\n",
    "    lsplit=l.split()[1:]\n",
    "    #print(lsplit[0],lsplit[1])\n",
    "    if lsplit[1]==p_m:\n",
    "        freqs.append(float(lsplit[0])+float(lsplit[2]))\n",
    "        #freqs.append(float(lsplit[0])-float(lsplit[2]))\n",
    "    else:\n",
    "        freqs.append(float(lsplit[0]))\n",
    "\n",
    "print(freqs)"
   ]
  },
  {
   "cell_type": "code",
   "execution_count": 4,
   "metadata": {},
   "outputs": [
    {
     "name": "stdout",
     "output_type": "stream",
     "text": [
      "215.1573944091797\n"
     ]
    }
   ],
   "source": [
    "nlyr=29\n",
    "kext1D=np.zeros(nlyr)\n",
    "asym1D=np.zeros(nlyr)\n",
    "salb1D=np.zeros(nlyr)\n",
    "iprof=0\n",
    "hL=[0]\n",
    "lyrtemp=[temperature_2m[iprof]]\n",
    "fisot=2.7\n",
    "emis=0.9\n",
    "ebar=0.9\n",
    "umu=np.cos(53/180*np.pi)\n",
    "for k in range(nlyr):\n",
    "    nk=-1-k\n",
    "    ireturn=0\n",
    "    rho=press*100/(287.05*temperature)\n",
    "    absair,abswv = sdsu.gasabsr98(freq,temperature[iprof,nk],qv[iprof,nk]*rho[nk],press[nk],ireturn)\n",
    "    hL.append((geopotential[iprof,nk]+geopotential[iprof,nk-1])/2/9.8)\n",
    "    tavg=(temperature[iprof,nk]+temperature[iprof,nk-1])/2\n",
    "    lyrtemp.append(tavg)\n",
    "        \n",
    "    kext1D[k]=absair+abswv\n",
    "    asym1D[k]=0\n",
    "    salb1D[k]=0\n",
    "    npol=1\n",
    "    ts=temperature_2m[iprof]\n",
    "    w=np.sqrt(u_10m[iprof]**2+v_10m[iprof]**2)\n",
    "    emis,ebar = sdsu.emit(freq,npol,ts,w,umu)\n",
    "lyrtemp=np.array(lyrtemp)\n",
    "lyrhgt=np.array(hL)/1e3 # convert to km\n",
    "ilambert=0\n",
    "btemp=temperature_2m[iprof]\n",
    "tb=sdsu.radtran(umu,btemp,lyrtemp,lyrhgt,kext1D,salb1D,asym1D,fisot,emis,ebar,ilambert)\n",
    "print(tb)"
   ]
  },
  {
   "cell_type": "code",
   "execution_count": 13,
   "metadata": {},
   "outputs": [
    {
     "name": "stdout",
     "output_type": "stream",
     "text": [
      "(78000, 37)\n",
      "[284.74612 279.81293 277.7845  275.87534 273.9018  274.3277  277.1643\n",
      " 278.65637 278.8459  278.7443  278.1787  276.33115 273.52805 270.72626\n",
      " 266.955   261.88724 256.30426 250.11215 243.09155 235.13797 225.86572\n",
      " 218.35388 213.15988 208.10385 204.79425 205.87543 207.32346 208.51752\n",
      " 212.81525 216.63596]\n",
      "\n",
      "[    0.           417.67202759   627.68218994   841.68884277\n",
      "  1059.92480469  1283.10241699  1514.1895752   1754.24462891\n",
      "  2002.03564453  2257.66699219  2521.19360352  2934.45239258\n",
      "  3510.97485352  4125.52099609  4783.37109375  5489.26660156\n",
      "  6250.39453125  7077.47216797  7984.40820312  8990.9296875\n",
      " 10124.80078125 11064.33203125 11768.87597656 12543.08886719\n",
      " 13411.65136719 14420.3046875  15646.71191406 17415.66992188\n",
      " 19552.54492188 22217.23242188]\n"
     ]
    }
   ],
   "source": [
    "print(geopotential.shape)\n",
    "print(lyrtemp)\n",
    "print()\n",
    "print(np.array(hL))"
   ]
  },
  {
   "cell_type": "code",
   "execution_count": null,
   "metadata": {},
   "outputs": [],
   "source": [
    "from numba import jit\n",
    "#@jit(nopython=True) \n",
    "def calculate_tb_prof(iprof,incAngle,freqs,temperature_2m,u_10m,v_10m,qv,geopotential,temperature,press):\n",
    "    fisot=2.7 # background radiation in K\n",
    "    umu=np.cos(incAngle/180*np.pi)\n",
    "    tb_all_freq=[]   \n",
    "    nlyr=29  \n",
    "    kext1D=np.zeros(nlyr)\n",
    "    asym1D=np.zeros(nlyr)\n",
    "    salb1D=np.zeros(nlyr)\n",
    "   \n",
    "    for ifreq,freq in enumerate(freqs):        \n",
    "        hL=[0]\n",
    "        lyrtemp=[temperature_2m[iprof]]\n",
    "        fisot=2.7\n",
    "        for k in range(nlyr):\n",
    "            nk=-1-k\n",
    "            ireturn=0\n",
    "            rho=press*100/(287.05*temperature)\n",
    "            absair,abswv = sdsu.gasabsr98(freq,temperature[iprof,nk],qv[iprof,nk]*rho[nk],press[nk],ireturn)\n",
    "            hL.append((geopotential[iprof,nk]+geopotential[iprof,nk-1])/2/9.8)\n",
    "            tavg=(temperature[iprof,nk]+temperature[iprof,nk-1])/2\n",
    "            lyrtemp.append(tavg)\n",
    "        \n",
    "            kext1D[k]=absair+abswv\n",
    "            asym1D[k]=0\n",
    "            salb1D[k]=0\n",
    "        npol=1\n",
    "        ts=temperature_2m[iprof]\n",
    "        w=np.sqrt(u_10m[iprof]**2+v_10m[iprof]**2)\n",
    "        emis,ebar = sdsu.emit(freq,npol,ts,w,umu)\n",
    "        lyrtemp=np.array(lyrtemp)\n",
    "        lyrhgt=np.array(hL)/1e3 # convert to km\n",
    "        ilambert=0\n",
    "        btemp=temperature_2m[iprof]\n",
    "        tb=sdsu.radtran(umu,btemp,lyrtemp,lyrhgt,kext1D,salb1D,asym1D,fisot,emis,ebar,ilambert)\n",
    "        tb_all_freq.append(tb)\n",
    "    return tb_all_freq\n",
    "\n",
    "iprof=0\n",
    "tb_all_freq=calculate_tb_prof(iprof,53,freqs,temperature_2m.data,u_10m.data,v_10m.data,qv.data,geopotential.data,temperature.data,press)\n",
    "   \n",
    "    "
   ]
  },
  {
   "cell_type": "code",
   "execution_count": null,
   "metadata": {},
   "outputs": [
    {
     "name": "stderr",
     "output_type": "stream",
     "text": [
      "100%|██████████| 15000/15000 [03:51<00:00, 64.79it/s]\n",
      "100%|██████████| 15000/15000 [03:59<00:00, 62.57it/s]\n"
     ]
    }
   ],
   "source": [
    "incAngle=53.0\n",
    "iprof=1\n",
    "\n",
    "np.random.seed(1969)\n",
    "ichoice=np.random.choice(temperature_2m.shape[0],15000)\n",
    "\n",
    "import tqdm\n",
    "pbl_heightL=[]\n",
    "tb_all_freq_53_L=[]\n",
    "incAngle=53.0\n",
    "for iprof in tqdm.tqdm(ichoice):\n",
    "    tb_all_freq = sdsu.calculate_tb_prof(iprof+1,incAngle,freqs,temperature_2m,u_10m,v_10m,qv,geopotential,temperature,press)\n",
    "    tb_all_freq_53_L.append(tb_all_freq)\n",
    "    pbl_heightL.append(boundary_layer_height[iprof])\n",
    "\n",
    "incAngle=20.0\n",
    "tb_all_freq_20_L=[]\n",
    "for iprof in tqdm.tqdm(ichoice):\n",
    "    tb_all_freq = sdsu.calculate_tb_prof(iprof+1,incAngle,freqs,temperature_2m,u_10m,v_10m,qv,geopotential,temperature,press)\n",
    "    tb_all_freq_20_L.append(tb_all_freq)\n",
    "    #pbl_heightL.append(boundary_layer_height[iprof])\n",
    "#print(tb_all_freq)"
   ]
  },
  {
   "cell_type": "code",
   "execution_count": 66,
   "metadata": {},
   "outputs": [
    {
     "name": "stderr",
     "output_type": "stream",
     "text": [
      "100%|██████████| 15000/15000 [04:00<00:00, 62.49it/s]\n",
      "100%|██████████| 15000/15000 [04:03<00:00, 61.66it/s]\n"
     ]
    }
   ],
   "source": [
    "incAngle=10.0\n",
    "tb_all_freq_10_L=[]\n",
    "for iprof in tqdm.tqdm(ichoice):\n",
    "    tb_all_freq = sdsu.calculate_tb_prof(iprof+1,incAngle,freqs,temperature_2m,u_10m,v_10m,qv,geopotential,temperature,press)\n",
    "    tb_all_freq_10_L.append(tb_all_freq)\n",
    "\n",
    "incAngle=40.0\n",
    "tb_all_freq_40_L=[]\n",
    "for iprof in tqdm.tqdm(ichoice):\n",
    "    tb_all_freq = sdsu.calculate_tb_prof(iprof+1,incAngle,freqs,temperature_2m,u_10m,v_10m,qv,geopotential,temperature,press)\n",
    "    tb_all_freq_40_L.append(tb_all_freq)\n",
    "    #pbl_heightL.append(boundary_layer_height[iprof])\n",
    "    "
   ]
  },
  {
   "cell_type": "code",
   "execution_count": 68,
   "metadata": {},
   "outputs": [
    {
     "name": "stdout",
     "output_type": "stream",
     "text": [
      "[[1.         0.62619302]\n",
      " [0.62619302 1.        ]]\n",
      "[[1.         0.79721926]\n",
      " [0.79721926 1.        ]]\n"
     ]
    }
   ],
   "source": [
    "from sklearn.neighbors import KNeighborsRegressor\n",
    "from sklearn.ensemble import HistGradientBoostingRegressor\n",
    "tb_all_freq_53_L=np.array(tb_all_freq_53_L)\n",
    "tb_all_freq_20_L=np.array(tb_all_freq_20_L)\n",
    "tb_all_freq_40_L=np.array(tb_all_freq_40_L)\n",
    "tb_all_freq_10_L=np.array(tb_all_freq_10_L)\n",
    "tb_all_freq_0_L=np.array(tb_all_freq_0_L)\n",
    "tb_all_freq_L=np.concatenate((tb_all_freq_53_L,tb_all_freq_40_L,tb_all_freq_20_L,tb_all_freq_10_L,tb_all_freq_0_L),axis=1)\n",
    "knnReg=KNeighborsRegressor(n_neighbors=10)\n",
    "hgbr=HistGradientBoostingRegressor()\n",
    "X=np.array(tb_all_freq_L)\n",
    "X=(X-np.mean(X,axis=0))/np.std(X,axis=0)\n",
    "hgbr.fit(X[:10000,:],pbl_heightL[:10000])\n",
    "y=np.array(pbl_heightL)\n",
    "knnReg.fit(X[:10000,:],y[:10000])\n",
    "y_pred=knnReg.predict(X[10000:,:])\n",
    "y_pred_hgbr=hgbr.predict(X[10000:,:])\n",
    "print(np.corrcoef(y_pred,y[10000:]))\n",
    "print(np.corrcoef(y_pred_hgbr,y[10000:]))"
   ]
  },
  {
   "cell_type": "code",
   "execution_count": 69,
   "metadata": {},
   "outputs": [
    {
     "name": "stdout",
     "output_type": "stream",
     "text": [
      "6.756756756756757\n",
      "0.606997048386494\n"
     ]
    },
    {
     "data": {
      "image/png": "[encoded data removed]",
      "text/plain": [
       "<Figure size 640x480 with 1 Axes>"
      ]
     },
     "metadata": {},
     "output_type": "display_data"
    }
   ],
   "source": [
    "from matplotlib.colors import LogNorm\n",
    "ax=plt.subplot(1,1,1)\n",
    "h2=plt.hist2d(y[10000:],y_pred_hgbr,bins=40,cmap='jet',norm=LogNorm())\n",
    "ax.set_aspect('equal')\n",
    "plt.xlim(0,2000)\n",
    "plt.ylim(0,2000)\n",
    "print(5/0.74)\n",
    "def norm_mse(y_true,y_pred):\n",
    "    return np.sqrt(np.mean((y_true-y_pred)**2))/y_true.std()\n",
    "\n",
    "print(norm_mse(y[10000:],y_pred_hgbr))"
   ]
  },
  {
   "cell_type": "code",
   "execution_count": null,
   "metadata": {},
   "outputs": [],
   "source": []
  }
 ],
 "metadata": {
  "kernelspec": {
   "display_name": "base",
   "language": "python",
   "name": "python3"
  },
  "language_info": {
   "codemirror_mode": {
    "name": "ipython",
    "version": 3
   },
   "file_extension": ".py",
   "mimetype": "text/x-python",
   "name": "python",
   "nbconvert_exporter": "python",
   "pygments_lexer": "ipython3",
   "version": "3.12.7"
  }
 },
 "nbformat": 4,
 "nbformat_minor": 2
}
