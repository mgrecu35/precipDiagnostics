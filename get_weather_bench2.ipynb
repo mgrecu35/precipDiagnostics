{
 "cells": [
  {
   "cell_type": "code",
   "execution_count": 13,
   "metadata": {},
   "outputs": [],
   "source": [
    "import xarray as xr\n",
    "#ds=xr.open_zarr('gs://weatherbench2/datasets/era5/1959-2023_01_10-wb13-6h-1440x721_with_derived_variables.zarr')\n",
    "#ds=xr.open_zarr('gs://weatherbench2/datasets/era5/1959-2022-6h-512x256_equiangular_conservative.zarr')\n",
    "ds=xr.open_zarr('gs://weatherbench2/datasets/era5/1959-2023_01_10-full_37-1h-512x256_equiangular_conservative.zarr')\n"
   ]
  },
  {
   "cell_type": "code",
   "execution_count": 2,
   "metadata": {},
   "outputs": [
    {
     "name": "stdout",
     "output_type": "stream",
     "text": [
      "<xarray.DataArray 'latitude' (latitude: 256)> Size: 2kB\n",
      "array([-89.648437, -88.945312, -88.242187, ...,  88.242187,  88.945312,\n",
      "        89.648437])\n",
      "Coordinates:\n",
      "  * latitude  (latitude) float64 2kB -89.65 -88.95 -88.24 ... 88.24 88.95 89.65\n"
     ]
    }
   ],
   "source": [
    "#print(ds.keys())\n",
    "print(ds['latitude'])\n",
    "lat=ds['latitude'][:].data\n",
    "lon=ds['longitude'][:].data\n",
    "region_bounds = {\n",
    "    \"lat_min\": 25.0,\n",
    "    \"lat_max\": 37.0,\n",
    "    \"lon_min\": -106.0,\n",
    "    \"lon_max\": -89.0\n",
    "}\n"
   ]
  },
  {
   "cell_type": "code",
   "execution_count": 19,
   "metadata": {},
   "outputs": [
    {
     "name": "stdout",
     "output_type": "stream",
     "text": [
      "(48, 48)\n",
      "160 208 366 414\n",
      "(561264,)\n",
      "<xarray.DataArray 'time' ()> Size: 8B\n",
      "array('2021-04-01T00:00:00.000000000', dtype='datetime64[ns]')\n",
      "Coordinates:\n",
      "    time     datetime64[ns] 8B 2021-04-01\n",
      "[0 3 6 9]\n"
     ]
    }
   ],
   "source": [
    "import numpy as np\n",
    "\n",
    "ind_lon_min,ind_lon_max=366,414 #366 414\n",
    "ind_lat_min,ind_lat_max=160,208\n",
    "tpw=ds['total_column_water_vapour'][0,ind_lon_min:ind_lon_max,ind_lat_min:ind_lat_max].data\n",
    "tp=ds['total_precipitation'][0,ind_lon_min:ind_lon_max,ind_lat_min:ind_lat_max]\n",
    "print(tpw.shape)\n",
    "#[0,ind_lat_min:ind_lat_max,ind_lon_min:ind_lon_max]\n",
    "print(ind_lat_min,ind_lat_max,ind_lon_min,ind_lon_max)\n",
    "#print(180/256)\n",
    "#print(ds['u_component_of_wind'])\n",
    "#print(ds['total_precipitation'])\n",
    "#print(ds['total_column_water_vapour'])\n",
    "print(ds['time'].shape)\n",
    "import datetime\n",
    "first_day=datetime.datetime(year,4,1)\n",
    "dt=first_day-datetime.datetime(1959,1,1)\n",
    "nstart=dt.days*24\n",
    "print(ds['time'][nstart])\n",
    "a=np.arange(0,10,3)\n",
    "print(a)"
   ]
  },
  {
   "cell_type": "code",
   "execution_count": null,
   "metadata": {},
   "outputs": [
    {
     "name": "stdout",
     "output_type": "stream",
     "text": [
      "1959-01-01T00:00:00.000000000\n",
      "2002-04-01 00:00:00 2002\n",
      "2003-04-01 00:00:00 2003\n",
      "2004-04-01 00:00:00 2004\n",
      "2005-04-01 00:00:00 2005\n",
      "2006-04-01 00:00:00 2006\n",
      "2007-04-01 00:00:00 2007\n",
      "2008-04-01 00:00:00 2008\n",
      "2009-04-01 00:00:00 2009\n",
      "2010-04-01 00:00:00 2010\n"
     ]
    }
   ],
   "source": [
    "time=ds['time'][:].data\n",
    "print(time[0])\n",
    "import datetime\n",
    "tpwL=[]\n",
    "levels=[5,7,9,10,12]\n",
    "for year in range(2002,2022):\n",
    "    first_day=datetime.datetime(year,4,1)\n",
    "    dt=first_day-datetime.datetime(1959,1,1)\n",
    "    nstart=dt.days*24\n",
    "    nend=nstart+90*24\n",
    "    tpw_year=ds['total_column_water_vapour'][nstart:nend:3,ind_lon_min:ind_lon_max,ind_lat_min:ind_lat_max].data\n",
    "    tp_year=ds['total_precipitation'][nstart:nend:3,ind_lon_min:ind_lon_max,ind_lat_min:ind_lat_max].data\n",
    "    u_wind_year=ds['u_component_of_wind'][nstart:nend:3,levels,ind_lon_min:ind_lon_max,ind_lat_min:ind_lat_max].data\n",
    "    v_wind_year=ds['v_component_of_wind'][nstart:nend:3,levels,ind_lon_min:ind_lon_max,ind_lat_min:ind_lat_max].data\n",
    "    geopotential_year=ds['geopotential'][nstart:nend:3,levels,ind_lon_min:ind_lon_max,ind_lat_min:ind_lat_max].data\n",
    "    temp_2m_year=ds['2m_temperature'][nstart:nend:3,ind_lon_min:ind_lon_max,ind_lat_min:ind_lat_max].data\n",
    "    mean_sea_level_pressure_year=ds['mean_sea_level_pressure'][nstart:nend:3,ind_lon_min:ind_lon_max,ind_lat_min:ind_lat_max].data\n",
    "    tpw_xr=xr.DataArray(tpw_year,dims=['time','lon','lat'],coords={'time':time[nstart:nend:3],'lon':lon[ind_lon_min:ind_lon_max],'lat':lat[ind_lat_min:ind_lat_max]})\n",
    "    tp_xr=xr.DataArray(tp_year,dims=['time','lon','lat'],coords={'time':time[nstart:nend:3],'lon':lon[ind_lon_min:ind_lon_max],'lat':lat[ind_lat_min:ind_lat_max]})\n",
    "    u_wind_xr=xr.DataArray(u_wind_year,dims=['time','level','lon','lat'],coords={'time':time[nstart:nend:3],'level':levels,'lon':lon[ind_lon_min:ind_lon_max],'lat':lat[ind_lat_min:ind_lat_max]})\n",
    "    v_wind_xr=xr.DataArray(v_wind_year,dims=['time','level','lon','lat'],coords={'time':time[nstart:nend:3],'level':levels,'lon':lon[ind_lon_min:ind_lon_max],'lat':lat[ind_lat_min:ind_lat_max]})\n",
    "    geopotential_xr=xr.DataArray(geopotential_year,dims=['time','level','lon','lat'],coords={'time':time[nstart:nend:3],'level':levels,'lon':lon[ind_lon_min:ind_lon_max],'lat':lat[ind_lat_min:ind_lat_max]})\n",
    "    mean_sea_level_pressure_xr=xr.DataArray(mean_sea_level_pressure_year,dims=['time','lon','lat'],coords={'time':time[nstart:nend:3],'lon':lon[ind_lon_min:ind_lon_max],'lat':lat[ind_lat_min:ind_lat_max]})\n",
    "    temp_2m_year_xr=xr.DataArray(temp_2m_year,dims=['time','lon','lat'],coords={'time':time[nstart:nend:3],'lon':lon[ind_lon_min:ind_lon_max],'lat':lat[ind_lat_min:ind_lat_max]})\n",
    "    surface_pressure_year=ds['surface_pressure'][nstart:nend:3,ind_lon_min:ind_lon_max,ind_lat_min:ind_lat_max].data\n",
    "    surface_pressure_year_xr=xr.DataArray(surface_pressure_year,dims=['time','lon','lat'],coords={'time':time[nstart:nend:3],'lon':lon[ind_lon_min:ind_lon_max],'lat':lat[ind_lat_min:ind_lat_max]})\n",
    "    ds_out=xr.Dataset({'total_column_water_vapour':tpw_xr,'total_precipitation':tp_xr,'u_component_of_wind':u_wind_xr,'v_component_of_wind':v_wind_xr,'geopotential':geopotential_xr,'mean_sea_level_pressure':mean_sea_level_pressure_xr,'temperature_2m':temp_2m_year_xr,'surface_pressure':surface_pressure_year_xr})\n",
    "    comp = dict(zlib=True, complevel=5)\n",
    "    encoding = {var: comp for var in ds_out.data_vars}\n",
    "    print(first_day,year)\n",
    "    ds_out.to_netcdf('weatherbench2_conus_hourly_subset_%4.4i.nc'%year,encoding=encoding)\n",
    "    #break\n",
    "#print(time[nstart])"
   ]
  },
  {
   "cell_type": "code",
   "execution_count": 29,
   "metadata": {},
   "outputs": [
    {
     "name": "stdout",
     "output_type": "stream",
     "text": [
      "/Users/mgrecu/Prithvi-WxC/examples\n"
     ]
    }
   ],
   "source": [
    "!pwd"
   ]
  },
  {
   "cell_type": "code",
   "execution_count": 20,
   "metadata": {},
   "outputs": [
    {
     "name": "stdout",
     "output_type": "stream",
     "text": [
      "[ 300  500  700  850 1000]\n",
      "(512, 256)\n",
      "(512, 256)\n"
     ]
    }
   ],
   "source": [
    "print(ds['level'].data[[5,7,9,10,12]])\n",
    "print(ds['land_sea_mask'].shape)\n",
    "print(ds['geopotential_at_surface'].shape)"
   ]
  },
  {
   "cell_type": "code",
   "execution_count": 10,
   "metadata": {},
   "outputs": [
    {
     "name": "stdout",
     "output_type": "stream",
     "text": [
      "(48,)\n",
      "(48,)\n",
      "(48, 48)\n"
     ]
    },
    {
     "data": {
      "text/plain": [
       "<cartopy.mpl.feature_artist.FeatureArtist at 0x312134fa0>"
      ]
     },
     "execution_count": 10,
     "metadata": {},
     "output_type": "execute_result"
    },
    {
     "data": {
      "image/png": "[encoded data removed]",
      "text/plain": [
       "<Figure size 640x480 with 1 Axes>"
      ]
     },
     "metadata": {},
     "output_type": "display_data"
    }
   ],
   "source": [
    "import matplotlib.pyplot as plt\n",
    "import cartopy.crs as ccrs\n",
    "print(lon[ind_lon_min:ind_lon_max].shape)\n",
    "print(lat[ind_lat_min:ind_lat_max].shape)\n",
    "print(tpw.shape)\n",
    "ax=plt.axes(projection=ccrs.PlateCarree())\n",
    "plt.pcolormesh(lon[ind_lon_min:ind_lon_max],lat[ind_lat_min:ind_lat_max],\n",
    "               tpw.T,cmap='jet')\n",
    "ax.coastlines()"
   ]
  }
 ],
 "metadata": {
  "kernelspec": {
   "display_name": "base",
   "language": "python",
   "name": "python3"
  },
  "language_info": {
   "codemirror_mode": {
    "name": "ipython",
    "version": 3
   },
   "file_extension": ".py",
   "mimetype": "text/x-python",
   "name": "python",
   "nbconvert_exporter": "python",
   "pygments_lexer": "ipython3",
   "version": "3.10.14"
  }
 },
 "nbformat": 4,
 "nbformat_minor": 2
}
