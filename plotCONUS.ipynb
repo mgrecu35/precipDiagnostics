{
 "cells": [
  {
   "cell_type": "code",
   "execution_count": 1,
   "metadata": {},
   "outputs": [
    {
     "name": "stdout",
     "output_type": "stream",
     "text": [
      "['weatherbench2_conus_subset_2001.nc', 'weatherbench2_conus_subset_2002.nc', 'weatherbench2_conus_subset_2003.nc', 'weatherbench2_conus_subset_2004.nc', 'weatherbench2_conus_subset_2005.nc', 'weatherbench2_conus_subset_2006.nc', 'weatherbench2_conus_subset_2007.nc', 'weatherbench2_conus_subset_2008.nc', 'weatherbench2_conus_subset_2009.nc', 'weatherbench2_conus_subset_2010.nc', 'weatherbench2_conus_subset_2011.nc', 'weatherbench2_conus_subset_2012.nc', 'weatherbench2_conus_subset_2013.nc', 'weatherbench2_conus_subset_2014.nc', 'weatherbench2_conus_subset_2015.nc', 'weatherbench2_conus_subset_2016.nc', 'weatherbench2_conus_subset_2017.nc', 'weatherbench2_conus_subset_2018.nc', 'weatherbench2_conus_subset_2019.nc', 'weatherbench2_conus_subset_2020.nc']\n"
     ]
    }
   ],
   "source": [
    "import netCDF4 as nc\n",
    "#ds_out=xr.Dataset({'total_column_water_vapour':tpw_xr,'total_precipitation':tp_xr,'u_component_of_wind':u_wind_xr,'v_component_of_wind':v_wind_xr,'geopotential':geopotential_xr,'mean_sea_level_pressure':mean_sea_level_pressure_xr,'temperature_2m':temp_2m_year_xr,'surface_pressure':surface_pressure_year_xr})\n",
    "import glob\n",
    "fs=glob.glob('weath*.nc')\n",
    "fs=sorted(fs)[:-1]\n",
    "print(fs)\n",
    "#!pwd\n",
    "import numpy as np\n",
    "\n",
    "\n",
    "icount=0\n",
    "\n",
    "for f in fs:\n",
    "    with nc.Dataset(f) as fh:\n",
    "        u=fh.variables['u_component_of_wind'][:]\n",
    "        v=fh.variables['v_component_of_wind'][:]\n",
    "        tp=fh.variables['total_precipitation'][:]\n",
    "        tpw=fh.variables['total_column_water_vapour'][:]\n",
    "        geopotential=fh.variables['geopotential'][:]\n",
    "        mslp=fh.variables['mean_sea_level_pressure'][:]\n",
    "        temp_2m=fh.variables['temperature_2m'][:]\n",
    "        sp=fh.variables['surface_pressure'][:]\n",
    "        lon=fh.variables['lon'][:]\n",
    "        lat=fh.variables['lat'][:]\n",
    "        #tp_mean+=tp.mean(axis=0)\n",
    "        if icount==0:\n",
    "            u_all=u\n",
    "            v_all=v\n",
    "            tp_all=tp   \n",
    "            tpw_all=tpw\n",
    "            geopotential_all=geopotential\n",
    "            mslp_all=mslp\n",
    "            temp_2m_all=temp_2m\n",
    "            sp_all=sp\n",
    "        else:\n",
    "            u_all=np.concatenate((u_all,u),axis=0)\n",
    "            v_all=np.concatenate((v_all,v),axis=0)\n",
    "            tp_all=np.concatenate((tp_all,tp),axis=0)\n",
    "            tpw_all=np.concatenate((tpw_all,tpw),axis=0)\n",
    "            geopotential_all=np.concatenate((geopotential_all,geopotential),axis=0)\n",
    "            mslp_all=np.concatenate((mslp_all,mslp),axis=0)\n",
    "            temp_2m_all=np.concatenate((temp_2m_all,temp_2m),axis=0)\n",
    "            sp_all=np.concatenate((sp_all,sp),axis=0)\n",
    "        icount+=1\n",
    "        #break\n",
    "\n",
    "#tp_mean/=icount"
   ]
  },
  {
   "cell_type": "code",
   "execution_count": 2,
   "metadata": {},
   "outputs": [
    {
     "name": "stdout",
     "output_type": "stream",
     "text": [
      "(7200, 5, 48, 48)\n"
     ]
    }
   ],
   "source": [
    "print(u_all.shape)\n",
    "def rescale_fields(u):\n",
    "    ndims=u.shape\n",
    "    u_mean=u.mean(axis=0)\n",
    "    u_std=u.std(axis=0)\n",
    "    u=(u-u_mean)/u_std\n",
    "    return u\n",
    "u_all_rescaled=rescale_fields(u_all)\n",
    "v_all_rescaled=rescale_fields(v_all)\n",
    "tp_all_rescaled=rescale_fields(tp_all)\n",
    "tpw_all_rescaled=rescale_fields(tpw_all)\n",
    "geopotential_all_rescaled=rescale_fields(geopotential_all)\n",
    "mslp_all_rescaled=rescale_fields(mslp_all)\n",
    "temp_2m_all_rescaled=rescale_fields(temp_2m_all)\n",
    "sp_all_rescaled=rescale_fields(sp_all)\n",
    "\n",
    "ntrain=6800\n",
    "nval=400\n"
   ]
  },
  {
   "cell_type": "code",
   "execution_count": 3,
   "metadata": {},
   "outputs": [
    {
     "name": "stdout",
     "output_type": "stream",
     "text": [
      "(6800, 19, 48, 48)\n"
     ]
    }
   ],
   "source": [
    "tp_all[tp_all<0]=0\n",
    "x_train=np.concatenate([u_all_rescaled[:ntrain],v_all_rescaled[:ntrain],tpw_all_rescaled[:ntrain,np.newaxis,:,:],geopotential_all_rescaled[:ntrain],mslp_all_rescaled[:ntrain,np.newaxis,:,:],temp_2m_all_rescaled[:ntrain,np.newaxis,:,:],sp_all_rescaled[:ntrain,np.newaxis,:,:]],axis=1)\n",
    "print(x_train.shape)\n",
    "y_train=np.log10(1+tp_all[:ntrain,np.newaxis,:,:]/0.0001)\n",
    "\n",
    "x_val=np.concatenate([u_all_rescaled[ntrain:ntrain+nval],v_all_rescaled[ntrain:ntrain+nval],tpw_all_rescaled[ntrain:ntrain+nval,np.newaxis,:,:],geopotential_all_rescaled[ntrain:ntrain+nval],mslp_all_rescaled[ntrain:ntrain+nval,np.newaxis,:,:],temp_2m_all_rescaled[ntrain:ntrain+nval,np.newaxis,:,:],sp_all_rescaled[ntrain:ntrain+nval,np.newaxis,:,:]],axis=1)\n",
    "y_val=np.log10(1+tp_all[ntrain:ntrain+nval,np.newaxis,:,:]/0.0001)"
   ]
  },
  {
   "cell_type": "code",
   "execution_count": 140,
   "metadata": {},
   "outputs": [],
   "source": [
    "from neuralop.models import TFNO\n",
    "from neuralop.models import FNO\n",
    "nfactors=3\n",
    "operator = FNO(n_modes=(8, 8), hidden_channels=48,\n",
    "                in_channels=19,\n",
    "                out_channels=2+nfactors,\n",
    "                factorization='tucker',\n",
    "                implementation='factorized', n_layers=6,\n",
    "                rank=0.05)"
   ]
  },
  {
   "cell_type": "code",
   "execution_count": 143,
   "metadata": {},
   "outputs": [],
   "source": [
    "import torch\n",
    "from torch.optim import Adam\n",
    "from torch.nn import MSELoss\n",
    "from torch.utils.data import DataLoader, TensorDataset\n",
    "#out=operator(torch.tensor(x_train[:1000,:,:,:]))\n",
    "#print(out.shape)\n",
    "loss=MSELoss()\n",
    "from torch.distributions.lowrank_multivariate_normal import LowRankMultivariateNormal\n",
    "def NLLLoss(output, target):\n",
    "    nb, nc, nx, ny = output.shape\n",
    "    mean = output[:,0,:,:].reshape(nb, -1).abs()\n",
    "\n",
    "    cov_diag = torch.exp(output[:,1,:,:]).reshape(nb,-1)+0.01\n",
    "    factors = output[:,2:,:,:]\n",
    "    nfact=factors.shape[1]\n",
    "    factors_permuted = factors.permute(0, 2, 3, 1).reshape(nb, -1, nfact)\n",
    "    dist = LowRankMultivariateNormal(mean, factors_permuted, cov_diag)\n",
    "    return -dist.log_prob(target[:,0,:,:].reshape(nb,-1)).mean()\n",
    "opt=Adam(operator.parameters(),lr=0.001)\n",
    "x_train_t=torch.tensor(x_train[:,:,6:38,6:38]).float()\n",
    "y_train_t=torch.tensor(y_train[:,:,6:38,6:38]).float()\n",
    "x_val_t=torch.tensor(x_val[:,:,6:38,6:38]).float()\n",
    "y_val_t=torch.tensor(y_val[:,:,6:38,6:38]).float()\n",
    "train_data=TensorDataset(x_train_t,y_train_t)\n",
    "val_data=TensorDataset(x_val_t,y_val_t)\n",
    "train_loader=DataLoader(train_data,batch_size=32,shuffle=True)\n",
    "val_loader=DataLoader(val_data,batch_size=32,shuffle=True)\n"
   ]
  },
  {
   "cell_type": "code",
   "execution_count": 150,
   "metadata": {},
   "outputs": [
    {
     "name": "stdout",
     "output_type": "stream",
     "text": [
      "epoch 0 -273.53660576332345\n",
      "epoch 1 -281.1144174566851\n",
      "epoch 2 -286.26817823239895\n",
      "epoch 3 -292.41843496689773\n",
      "epoch 4 -299.89465776183795\n",
      "epoch 5 -305.2247684102663\n"
     ]
    }
   ],
   "source": [
    "nepochs=6\n",
    "for epoch in range(nepochs):\n",
    "    operator.train()\n",
    "    avg_loss=0\n",
    "    for x,y in train_loader:\n",
    "        opt.zero_grad()\n",
    "        y_pred=operator(x)\n",
    "        #l=loss(y_pred,y)\n",
    "        l=NLLLoss(y_pred,y)\n",
    "        l.backward()\n",
    "        avg_loss+=l.item()\n",
    "        opt.step()\n",
    "    #operator.eval()\n",
    "    #with torch.no_grad():\n",
    "    #    for x,y in val_loader:\n",
    "    #        y_pred=operator(x)\n",
    "    #        l=loss(y_pred,y)\n",
    "    #        print(l.item())\n",
    "    print('epoch',epoch,avg_loss/len(train_loader))\n",
    "    #break"
   ]
  },
  {
   "cell_type": "markdown",
   "metadata": {},
   "source": []
  },
  {
   "cell_type": "code",
   "execution_count": 151,
   "metadata": {},
   "outputs": [
    {
     "name": "stdout",
     "output_type": "stream",
     "text": [
      "[[1.         0.83169105]\n",
      " [0.83169105 1.        ]]\n",
      "0.4536179 0.38471645\n"
     ]
    },
    {
     "data": {
      "image/png": "[encoded data removed]",
      "text/plain": [
       "<Figure size 640x480 with 1 Axes>"
      ]
     },
     "metadata": {},
     "output_type": "display_data"
    }
   ],
   "source": [
    "#operator.eval()\n",
    "y_pred_all=operator(x_val_t)\n",
    "y_pred=y_pred_all[:,0:1,:,:].abs()\n",
    "\n",
    "print(np.corrcoef(y_pred.detach().numpy().flatten(),y_val_t.numpy().flatten()))\n",
    "import matplotlib.pyplot as plt\n",
    "import matplotlib\n",
    "ax=plt.subplot(111)\n",
    "h2d=plt.hist2d(y_val_t.numpy().flatten(),y_pred.detach().numpy().flatten(),bins=100,norm=matplotlib.colors.LogNorm(),cmap='jet')\n",
    "ax.set_aspect('equal')\n",
    "print(np.mean(y_pred.detach().numpy().flatten()),np.mean(y_val_t.numpy().flatten()))"
   ]
  },
  {
   "cell_type": "code",
   "execution_count": 139,
   "metadata": {},
   "outputs": [
    {
     "name": "stdout",
     "output_type": "stream",
     "text": [
      "42341\n"
     ]
    }
   ],
   "source": [
    "# print number of parameters in the model\n",
    "print(sum(p.numel() for p in operator.parameters()))"
   ]
  },
  {
   "cell_type": "code",
   "execution_count": 152,
   "metadata": {},
   "outputs": [
    {
     "name": "stdout",
     "output_type": "stream",
     "text": [
      "(400, 1, 32, 32)\n"
     ]
    },
    {
     "data": {
      "text/plain": [
       "<cartopy.mpl.feature_artist.FeatureArtist at 0x30bb62da0>"
      ]
     },
     "execution_count": 152,
     "metadata": {},
     "output_type": "execute_result"
    },
    {
     "data": {
      "image/png": "[encoded data removed]",
      "text/plain": [
       "<Figure size 640x480 with 1 Axes>"
      ]
     },
     "metadata": {},
     "output_type": "display_data"
    },
    {
     "data": {
      "image/png": "[encoded data removed]",
      "text/plain": [
       "<Figure size 640x480 with 1 Axes>"
      ]
     },
     "metadata": {},
     "output_type": "display_data"
    }
   ],
   "source": [
    "import matplotlib.pyplot as plt\n",
    "from matplotlib.colors import LogNorm\n",
    "import numpy as np\n",
    "import cartopy.crs as ccrs\n",
    "ax=plt.axes(projection=ccrs.PlateCarree())\n",
    "ax.coastlines()\n",
    "y_pred_np=y_pred.detach().numpy()\n",
    "print(y_pred_np.shape)\n",
    "ax=plt.subplot(111,projection=ccrs.PlateCarree())\n",
    "plt.pcolormesh(lon[6:38],lat[6:38],y_pred_np[100,0,:,:].T,cmap='jet')\n",
    "ax.coastlines()\n",
    "plt.figure()\n",
    "ax=plt.subplot(111,projection=ccrs.PlateCarree())\n",
    "plt.pcolormesh(lon[6:38],lat[6:38],y_val_t[100,0,:,:].numpy().T,cmap='jet')\n",
    "ax.coastlines()"
   ]
  },
  {
   "cell_type": "code",
   "execution_count": 142,
   "metadata": {},
   "outputs": [
    {
     "name": "stdout",
     "output_type": "stream",
     "text": [
      "[[1.         0.07557539]\n",
      " [0.07557539 1.        ]]\n",
      "-0.023585655 0.38471645\n"
     ]
    },
    {
     "data": {
      "image/png": "[encoded data removed]",
      "text/plain": [
       "<Figure size 640x480 with 1 Axes>"
      ]
     },
     "metadata": {},
     "output_type": "display_data"
    }
   ],
   "source": [
    "#save the full model\n",
    "\n",
    "torch.save(operator,'fourier_operator_model_12_full.pt')\n",
    "\n",
    "operator_loaded=torch.load('fourier_operator_model_12_full.pt')\n",
    "y_pred_all=operator_loaded(x_val_t)\n",
    "y_pred=y_pred_all[:,0:1,:,:]\n",
    "\n",
    "print(np.corrcoef(y_pred.detach().numpy().flatten(),y_val_t.numpy().flatten()))\n",
    "import matplotlib.pyplot as plt\n",
    "import matplotlib\n",
    "ax=plt.subplot(111)\n",
    "h2d=plt.hist2d(y_val_t.numpy().flatten(),y_pred.detach().numpy().flatten(),bins=100,norm=matplotlib.colors.LogNorm(),cmap='jet')\n",
    "ax.set_aspect('equal')\n",
    "print(np.mean(y_pred.detach().numpy().flatten()),np.mean(y_val_t.numpy().flatten()))"
   ]
  },
  {
   "cell_type": "code",
   "execution_count": null,
   "metadata": {},
   "outputs": [],
   "source": [
    "import torch\n",
    "from torch.distributions.lowrank_multivariate_normal import LowRankMultivariateNormal\n",
    "\n",
    "# Define the mean (4,4) array\n",
    "mean = torch.randn(100,4, 4)\n",
    "\n",
    "# Define the low-rank factors (2,4,4)\n",
    "factor = torch.randn(100,2, 4, 4)\n",
    "\n",
    "# Permute the dimensions to get (4,4,2)\n",
    "permuted_factor = factor.permute(0,2, 3, 1)\n",
    "\n",
    "# Define the diagonal covariance matrix (4,4)\n",
    "cov_diag = torch.randn(100,4, 4).abs()+0.01  # Ensure non-negative values\n",
    "\n",
    "# Create the LowRankMultivariateNormal distribution\n",
    "dist = LowRankMultivariateNormal(mean, permuted_factor, cov_diag)\n",
    "\n",
    "# Define a sample vector to calculate the likelihood for\n",
    "sample_vector = torch.randn(100,4, 4)\n",
    "\n",
    "# Calculate the log likelihood of the sample vector\n",
    "log_likelihood = dist.log_prob(sample_vector).mean()\n",
    "\n",
    "# Calculate the negative log likelihood\n",
    "negative_log_likelihood = -log_likelihood\n",
    "\n",
    "print(\"Log likelihood:\", log_likelihood.item())\n",
    "print(\"Negative log likelihood:\", negative_log_likelihood.item())"
   ]
  },
  {
   "cell_type": "code",
   "execution_count": 101,
   "metadata": {},
   "outputs": [],
   "source": [
    "np.zeros(2)\n",
    "np.array([[1],[2]]).shape\n",
    "import torch\n",
    "from torch.distributions.lowrank_multivariate_normal import LowRankMultivariateNormal\n",
    "\n",
    "# Define the mean (4,4) array\n",
    "mean = torch.randn(10,4, 4)\n",
    "\n",
    "# Define the low-rank factors (2,4,4)\n",
    "factor = torch.randn(10,2,4,4)\n",
    "factor_permuted=factor.permute(0,2,3,1)\n",
    "\n",
    "# Define the diagonal covariance matrix (4,4)\n",
    "cov_diag = torch.randn(10,4, 4).abs()  # Ensure non-negative values\n",
    "\n",
    "# Create the LowRankMultivariateNormal distribution\n",
    "dist = LowRankMultivariateNormal(mean, factor_permuted, cov_diag)\n",
    "\n",
    "# Sample from the distribution\n",
    "sample = dist.sample()\n",
    "log_likelihood = dist.log_prob(sample)"
   ]
  },
  {
   "cell_type": "code",
   "execution_count": 98,
   "metadata": {},
   "outputs": [
    {
     "name": "stdout",
     "output_type": "stream",
     "text": [
      "torch.Size([1, 4, 4])\n",
      "torch.Size([4, 4, 1])\n"
     ]
    }
   ],
   "source": [
    "a=torch.randn(1,4,4)\n",
    "a_rolled=torch.roll(a,shifts=-1,dims=0)\n",
    "print(a_rolled.shape)\n",
    "a_permuted=a.permute(1,2,0)\n",
    "print(a_permuted.shape)"
   ]
  },
  {
   "cell_type": "code",
   "execution_count": 91,
   "metadata": {},
   "outputs": [
    {
     "data": {
      "text/plain": [
       "<matplotlib.collections.QuadMesh at 0x307c21000>"
      ]
     },
     "execution_count": 91,
     "metadata": {},
     "output_type": "execute_result"
    },
    {
     "data": {
      "image/png": "[encoded data removed]",
      "text/plain": [
       "<Figure size 640x480 with 1 Axes>"
      ]
     },
     "metadata": {},
     "output_type": "display_data"
    }
   ],
   "source": [
    "\n",
    "y_pred_fine=operator.forward(torch.tensor(x_val[:,:,6:38,6:38]).float())\n",
    "plt.pcolormesh(y_pred_fine[100,0,:,:].detach().numpy().T,cmap='jet')"
   ]
  }
 ],
 "metadata": {
  "kernelspec": {
   "display_name": "base",
   "language": "python",
   "name": "python3"
  },
  "language_info": {
   "codemirror_mode": {
    "name": "ipython",
    "version": 3
   },
   "file_extension": ".py",
   "mimetype": "text/x-python",
   "name": "python",
   "nbconvert_exporter": "python",
   "pygments_lexer": "ipython3",
   "version": "3.10.14"
  }
 },
 "nbformat": 4,
 "nbformat_minor": 2
}
